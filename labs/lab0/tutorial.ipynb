{
 "cells": [
  {
   "cell_type": "markdown",
   "metadata": {},
   "source": [
    "# Basic Jupyter Notebook Tutorial\n",
    "\n",
    "*This lab has been iteratively developed for EECS 126 at UC Berkeley by Rishi Sharma, Sahaana Suri, Kangwook Lee, Kabir Chandrasekher, Max Kanwal, Tony Duan, David Marn, Ashvin Nair, Tavor Baharav, Sinho Chewi, Andrew Liu, Kamil Nar, David Wang, Avishek Ghosh, Chen Meng, Alvin Kao, Ray Ramamurti, Nikunj Jain, Kevin Lu, Andy Dong, Professors Kannan Ramchandran, Abhay Parekh, and Jean Walrand.*\n",
    "\n",
    "Modified from Berkeley Python Bootcamp 2013 https://github.com/profjsb/python-bootcamp\n",
    "\n",
    "and Python for Signal Processing http://link.springer.com/book/10.1007%2F978-3-319-01342-8\n",
    "\n",
    "and EE 123 iPython Tutorial http://inst.eecs.berkeley.edu/~ee123/sp14/lab/python_tutorial.ipynb.\n"
   ]
  },
  {
   "cell_type": "markdown",
   "metadata": {},
   "source": [
    "This lab serves as a quick overview of Jupyter Notebooks, numpy, matplotlib, and simulations in Python, which we will use throughout the course. If you are unfamiliar with these, you should carefully read through all of the examples. You are only required to answer the two questions at the bottom for credit."
   ]
  },
  {
   "cell_type": "markdown",
   "metadata": {},
   "source": [
    "## General Jupyter Notebook Usage Instructions (Overview)"
   ]
  },
  {
   "cell_type": "markdown",
   "metadata": {},
   "source": [
    "- Start by clicking `Help >> User Interface Tour` to get yourself familiar with the Jupyter Notebook environment.\n",
    "- Click the `Play` button to run and advance a cell. The short-cut for it is `Shift-Enter`.\n",
    "- To add a new cell, either select `\"Insert >> Insert New Cell Below\"` or click the `Plus` button.\n",
    "- You can change the cell mode from code to text in the pulldown menu. Use `Markdown` for writing text.\n",
    "- You can change the text in `Markdown` cells by double-clicking it. The short-cut for this is `enter`.\n",
    "- To save your notebook, either select `\"File >> Save and Checkpoint\"` or hit `Command-s` for Mac and `Ctrl-s` for Windows.\n",
    "- To undo edits within a cell, hit `Command-z` for Mac and `Ctrl-z` for Windows.\n",
    "- `Help >> Keyboard Shortcuts` has a list of all useful keyboard shortcuts.\n",
    "- The `Help` menu also has links to many reference docs you may find useful this semester (e.g. Markdown, Python, NumPy, Matplotlib, SciPy)."
   ]
  },
  {
   "cell_type": "markdown",
   "metadata": {},
   "source": [
    "## Tab Completion"
   ]
  },
  {
   "cell_type": "markdown",
   "metadata": {},
   "source": [
    "One useful feature of iPython is tab completion:"
   ]
  },
  {
   "cell_type": "code",
   "execution_count": 54,
   "metadata": {},
   "outputs": [
    {
     "name": "stdout",
     "output_type": "stream",
     "text": [
      "3\n"
     ]
    }
   ],
   "source": [
    "x = 1\n",
    "y = 2\n",
    "x_plus_y = x + y\n",
    "\n",
    "# Type `x_` then hit TAB to auto-complete the variable and then press Shift +\n",
    "# Enter to run the cell.\n",
    "print(x_plus_y)"
   ]
  },
  {
   "cell_type": "markdown",
   "metadata": {},
   "source": [
    "## Help"
   ]
  },
  {
   "cell_type": "markdown",
   "metadata": {},
   "source": [
    "Another useful feature is the help command. Type any function followed by `?` and run the cell to return a help window. Hit the `x` button to close it."
   ]
  },
  {
   "cell_type": "code",
   "execution_count": 55,
   "metadata": {},
   "outputs": [
    {
     "name": "stdout",
     "output_type": "stream",
     "text": [
      "\u001b[0;31mSignature:\u001b[0m \u001b[0mabs\u001b[0m\u001b[0;34m(\u001b[0m\u001b[0mx\u001b[0m\u001b[0;34m,\u001b[0m \u001b[0;34m/\u001b[0m\u001b[0;34m)\u001b[0m\u001b[0;34m\u001b[0m\u001b[0;34m\u001b[0m\u001b[0m\n",
      "\u001b[0;31mDocstring:\u001b[0m Return the absolute value of the argument.\n",
      "\u001b[0;31mType:\u001b[0m      builtin_function_or_method\n"
     ]
    }
   ],
   "source": [
    "abs?"
   ]
  },
  {
   "cell_type": "markdown",
   "metadata": {},
   "source": [
    "## Floats and Integers"
   ]
  },
  {
   "cell_type": "markdown",
   "metadata": {},
   "source": [
    "Doing math in Python is easy, but note that there are `int` and `float` types in Python.  In Python 3, integer division returns the same results as floating point division."
   ]
  },
  {
   "cell_type": "code",
   "execution_count": 56,
   "metadata": {},
   "outputs": [
    {
     "data": {
      "text/plain": [
       "0.6781609195402298"
      ]
     },
     "execution_count": 56,
     "metadata": {},
     "output_type": "execute_result"
    }
   ],
   "source": [
    "59 / 87"
   ]
  },
  {
   "cell_type": "code",
   "execution_count": 57,
   "metadata": {},
   "outputs": [
    {
     "data": {
      "text/plain": [
       "0.6781609195402298"
      ]
     },
     "execution_count": 57,
     "metadata": {},
     "output_type": "execute_result"
    }
   ],
   "source": [
    "59 / 87.0"
   ]
  },
  {
   "cell_type": "markdown",
   "metadata": {},
   "source": [
    "## Strings"
   ]
  },
  {
   "cell_type": "markdown",
   "metadata": {},
   "source": [
    "- Double quotes and single quotes are the same thing. \n",
    "- `'+'` concatenates strings."
   ]
  },
  {
   "cell_type": "code",
   "execution_count": 58,
   "metadata": {},
   "outputs": [
    {
     "data": {
      "text/plain": [
       "'Hi Bye'"
      ]
     },
     "execution_count": 58,
     "metadata": {},
     "output_type": "execute_result"
    }
   ],
   "source": [
    "# This is a comment.\n",
    "\"Hi \" + 'Bye'"
   ]
  },
  {
   "cell_type": "markdown",
   "metadata": {},
   "source": [
    "## Printing"
   ]
  },
  {
   "cell_type": "markdown",
   "metadata": {},
   "source": [
    "Here are some fancy ways of printing:"
   ]
  },
  {
   "cell_type": "code",
   "execution_count": 59,
   "metadata": {},
   "outputs": [],
   "source": [
    "speed_of_light = 299792458\n",
    "speed_of_sound = 343"
   ]
  },
  {
   "cell_type": "code",
   "execution_count": 60,
   "metadata": {},
   "outputs": [
    {
     "name": "stdout",
     "output_type": "stream",
     "text": [
      "Light travels at 299792458 meters per second. This can be formatted as: 3.00E+08 meters per second.\n"
     ]
    }
   ],
   "source": [
    "print(\"Light travels at %d meters per second. This can be formatted as: %.2E meters per second.\" \\\n",
    "      % (speed_of_light, speed_of_light))"
   ]
  },
  {
   "cell_type": "code",
   "execution_count": 61,
   "metadata": {},
   "outputs": [
    {
     "name": "stdout",
     "output_type": "stream",
     "text": [
      "The speed of sound is 343 meters per second. That is 0.00011441248465296614% the speed of light.\n"
     ]
    }
   ],
   "source": [
    "print (\"The speed of sound is {0} meters per second. That is {1}% the speed of light.\" \\\n",
    "    .format(speed_of_sound, speed_of_sound / speed_of_light * 100))"
   ]
  },
  {
   "cell_type": "code",
   "execution_count": 62,
   "metadata": {},
   "outputs": [
    {
     "name": "stdout",
     "output_type": "stream",
     "text": [
      "Good Luck! Prepare to work hard and learn a lot of cool stuff!\n"
     ]
    }
   ],
   "source": [
    "print(\"Good Luck! Prepare to work hard and learn a lot of cool stuff!\")"
   ]
  },
  {
   "cell_type": "markdown",
   "metadata": {},
   "source": [
    "## Lists"
   ]
  },
  {
   "cell_type": "markdown",
   "metadata": {},
   "source": [
    "A list is a mutable array of data, i.e. it can constantly be modified. See http://stackoverflow.com/questions/8056130/immutable-vs-mutable-types-python for more info. If you are not careful, using mutable data structures can lead to bugs in code that passes common data to many different functions.\n",
    "\n",
    "Important functions: \n",
    "- Created a list by using square brackets `[ ]`.\n",
    "- `'+'` appends lists. \n",
    "- `len(x)` gets the length of list `x`."
   ]
  },
  {
   "cell_type": "code",
   "execution_count": 63,
   "metadata": {},
   "outputs": [
    {
     "name": "stdout",
     "output_type": "stream",
     "text": [
      "[1, 2, 'asdf', 4, 5, 6]\n"
     ]
    }
   ],
   "source": [
    "x = [1, 2, \"asdf\"] + [4, 5, 6]\n",
    "\n",
    "print(x)"
   ]
  },
  {
   "cell_type": "code",
   "execution_count": 64,
   "metadata": {},
   "outputs": [
    {
     "name": "stdout",
     "output_type": "stream",
     "text": [
      "6\n"
     ]
    }
   ],
   "source": [
    "print(len(x))"
   ]
  },
  {
   "cell_type": "markdown",
   "metadata": {},
   "source": [
    "## Tuples"
   ]
  },
  {
   "cell_type": "markdown",
   "metadata": {},
   "source": [
    "A tuple is an immutable list. They can be created using round brackets ( ). \n",
    "\n",
    "They are usually used as inputs and outputs to functions."
   ]
  },
  {
   "cell_type": "code",
   "execution_count": 65,
   "metadata": {},
   "outputs": [
    {
     "name": "stdout",
     "output_type": "stream",
     "text": [
      "(1, 2, 'asdf', 3, 4, 5)\n"
     ]
    }
   ],
   "source": [
    "t = (1, 2, \"asdf\") + (3, 4, 5)\n",
    "print(t)"
   ]
  },
  {
   "cell_type": "code",
   "execution_count": 66,
   "metadata": {},
   "outputs": [],
   "source": [
    "# cannot do assignment\n",
    "\n",
    "# t[0] = 10\n",
    "\n",
    "# try uncommenting the code line above and running the cell\n",
    "\n",
    "# errors in Jupyter Notebook appear inline\n",
    "# running this cell should give you a TypeError"
   ]
  },
  {
   "cell_type": "markdown",
   "metadata": {},
   "source": [
    "## Arrays (NumPy)"
   ]
  },
  {
   "cell_type": "markdown",
   "metadata": {},
   "source": [
    "A NumPy array is like a list with multidimensional support and more functions. We will be using it a lot.\n",
    "\n",
    "Arithmetic operations on NumPy arrays correspond to elementwise operations. \n",
    "\n",
    "Important functions:\n",
    "\n",
    "- `.shape` returns the dimensions of the array.\n",
    "\n",
    "- `.ndim` returns the number of dimensions. \n",
    "\n",
    "- `.size` returns the number of entries in the array.\n",
    "\n",
    "- `len()` returns the first dimension.\n",
    "\n",
    "\n",
    "To use functions in NumPy, we have to import NumPy to our workspace. This is done by the command `import numpy`. By convention, we rename `numpy` as `np` for convenience."
   ]
  },
  {
   "cell_type": "code",
   "execution_count": 67,
   "metadata": {},
   "outputs": [
    {
     "name": "stdout",
     "output_type": "stream",
     "text": [
      "[[1 2 3]\n",
      " [4 5 6]]\n"
     ]
    }
   ],
   "source": [
    "# by convention, import numpy as np\n",
    "import numpy as np\n",
    "\n",
    "x = np.array([[1, 2, 3], [4, 5, 6]])\n",
    "\n",
    "print(x)"
   ]
  },
  {
   "cell_type": "code",
   "execution_count": 68,
   "metadata": {},
   "outputs": [
    {
     "name": "stdout",
     "output_type": "stream",
     "text": [
      "Number of Dimensions: 2\n"
     ]
    }
   ],
   "source": [
    "print(\"Number of Dimensions:\", x.ndim)"
   ]
  },
  {
   "cell_type": "code",
   "execution_count": 69,
   "metadata": {},
   "outputs": [
    {
     "name": "stdout",
     "output_type": "stream",
     "text": [
      "Dimensions: (2, 3)\n"
     ]
    }
   ],
   "source": [
    "print(\"Dimensions:\", x.shape)"
   ]
  },
  {
   "cell_type": "code",
   "execution_count": 70,
   "metadata": {},
   "outputs": [
    {
     "name": "stdout",
     "output_type": "stream",
     "text": [
      "Size: 6\n"
     ]
    }
   ],
   "source": [
    "print(\"Size:\", x.size)"
   ]
  },
  {
   "cell_type": "code",
   "execution_count": 71,
   "metadata": {},
   "outputs": [
    {
     "name": "stdout",
     "output_type": "stream",
     "text": [
      "Length: 2\n"
     ]
    }
   ],
   "source": [
    "print(\"Length:\", len(x))"
   ]
  },
  {
   "cell_type": "code",
   "execution_count": 72,
   "metadata": {},
   "outputs": [
    {
     "name": "stdout",
     "output_type": "stream",
     "text": [
      "a =  [1 2 3]\n",
      "a * a =  [1 4 9]\n"
     ]
    }
   ],
   "source": [
    "a = np.array([1, 2, 3])\n",
    "\n",
    "print(\"a = \", a)\n",
    "\n",
    "# elementwise arithmetic\n",
    "print(\"a * a = \", a * a)"
   ]
  },
  {
   "cell_type": "code",
   "execution_count": 73,
   "metadata": {},
   "outputs": [
    {
     "name": "stdout",
     "output_type": "stream",
     "text": [
      "b =\n",
      " [[2. 2. 2.]\n",
      " [2. 2. 2.]\n",
      " [2. 2. 2.]]\n",
      "c =\n",
      " [[1. 1. 1.]\n",
      " [1. 1. 1.]\n",
      " [1. 1. 1.]]\n"
     ]
    }
   ],
   "source": [
    "b = np.array(np.ones((3, 3))) * 2\n",
    "print(\"b =\\n\", b)\n",
    "c = np.array(np.ones((3, 3)))\n",
    "print(\"c =\\n\", c)"
   ]
  },
  {
   "cell_type": "markdown",
   "metadata": {},
   "source": [
    "Multiply elementwise:"
   ]
  },
  {
   "cell_type": "code",
   "execution_count": 74,
   "metadata": {},
   "outputs": [
    {
     "name": "stdout",
     "output_type": "stream",
     "text": [
      "b * c =\n",
      " [[2. 2. 2.]\n",
      " [2. 2. 2.]\n",
      " [2. 2. 2.]]\n"
     ]
    }
   ],
   "source": [
    "print(\"b * c =\\n\", b * c)"
   ]
  },
  {
   "cell_type": "markdown",
   "metadata": {},
   "source": [
    "Now multiply as matrices (not arrays):"
   ]
  },
  {
   "cell_type": "code",
   "execution_count": 75,
   "metadata": {
    "scrolled": true
   },
   "outputs": [
    {
     "name": "stdout",
     "output_type": "stream",
     "text": [
      "b * c =\n",
      " [[6. 6. 6.]\n",
      " [6. 6. 6.]\n",
      " [6. 6. 6.]]\n"
     ]
    }
   ],
   "source": [
    "print(\"b * c =\\n\", np.dot(b, c))"
   ]
  },
  {
   "cell_type": "markdown",
   "metadata": {},
   "source": [
    "With Python3, you can also use the \"@\" operator for the dot product"
   ]
  },
  {
   "cell_type": "code",
   "execution_count": 76,
   "metadata": {},
   "outputs": [
    {
     "name": "stdout",
     "output_type": "stream",
     "text": [
      "b * c =\n",
      " [[6. 6. 6.]\n",
      " [6. 6. 6.]\n",
      " [6. 6. 6.]]\n"
     ]
    }
   ],
   "source": [
    "print(\"b * c =\\n\", b @ c)"
   ]
  },
  {
   "cell_type": "markdown",
   "metadata": {},
   "source": [
    "## Slicing for NumPy Arrays"
   ]
  },
  {
   "cell_type": "markdown",
   "metadata": {},
   "source": [
    "NumPy uses pass-by-reference semantics so it creates views into the existing array, without implicit copying. This is particularly helpful with very large arrays because copying can be slow."
   ]
  },
  {
   "cell_type": "code",
   "execution_count": 77,
   "metadata": {},
   "outputs": [
    {
     "name": "stdout",
     "output_type": "stream",
     "text": [
      "[1 2 3 4 5 6]\n"
     ]
    }
   ],
   "source": [
    "x = np.array([1, 2, 3, 4, 5, 6])\n",
    "print(x)"
   ]
  },
  {
   "cell_type": "markdown",
   "metadata": {},
   "source": [
    "We slice an array from `a` to `b - 1` with `[a:b]`."
   ]
  },
  {
   "cell_type": "code",
   "execution_count": 78,
   "metadata": {},
   "outputs": [
    {
     "name": "stdout",
     "output_type": "stream",
     "text": [
      "[1 2 3 4]\n"
     ]
    }
   ],
   "source": [
    "y = x[0:4]\n",
    "print(y)"
   ]
  },
  {
   "cell_type": "markdown",
   "metadata": {},
   "source": [
    "Since slicing does not copy the array, changing `y` changes `x`:"
   ]
  },
  {
   "cell_type": "code",
   "execution_count": 79,
   "metadata": {},
   "outputs": [
    {
     "name": "stdout",
     "output_type": "stream",
     "text": [
      "[7 2 3 4 5 6]\n",
      "[7 2 3 4]\n"
     ]
    }
   ],
   "source": [
    "y[0] = 7\n",
    "print(x)\n",
    "print(y)"
   ]
  },
  {
   "cell_type": "markdown",
   "metadata": {},
   "source": [
    "To actually copy `x`, we should use `.copy`:"
   ]
  },
  {
   "cell_type": "code",
   "execution_count": 80,
   "metadata": {},
   "outputs": [
    {
     "name": "stdout",
     "output_type": "stream",
     "text": [
      "[1 2 3 4 5 6]\n",
      "[7 2 3 4 5 6]\n"
     ]
    }
   ],
   "source": [
    "x = np.array([1, 2, 3, 4, 5, 6])\n",
    "y = x.copy()\n",
    "y[0] = 7\n",
    "print(x)\n",
    "print(y)"
   ]
  },
  {
   "cell_type": "markdown",
   "metadata": {},
   "source": [
    "## Plotting"
   ]
  },
  {
   "cell_type": "markdown",
   "metadata": {},
   "source": [
    "In this class we will use `matplotlib.pyplot` to plot signals and images.\n",
    "\n",
    "To begin with, we import `matplotlib.pyplot` as `plt` (again for convenience)."
   ]
  },
  {
   "cell_type": "code",
   "execution_count": 81,
   "metadata": {},
   "outputs": [],
   "source": [
    "import numpy as np\n",
    "# by convention, we import pyplot as plt\n",
    "import matplotlib.pyplot as plt\n",
    "# import r_ function from numpy\n",
    "from numpy import r_\n",
    "\n",
    "\n",
    "# if you don't specify a number before the colon, the starting index defaults\n",
    "# to 0\n",
    "x = r_[:1:0.01]\n",
    "a = np.exp(-x)\n",
    "b = np.sin(x * 10.0) / 4.0 + 0.5\n",
    "\n",
    "# plot in browser instead of opening new windows\n",
    "%matplotlib inline"
   ]
  },
  {
   "cell_type": "markdown",
   "metadata": {},
   "source": [
    "`plt.plot(x, a)` plots `a` against `x`."
   ]
  },
  {
   "cell_type": "code",
   "execution_count": 82,
   "metadata": {},
   "outputs": [
    {
     "data": {
      "image/png": "[encoded data removed]",
      "text/plain": [
       "<Figure size 432x288 with 1 Axes>"
      ]
     },
     "metadata": {
      "needs_background": "light"
     },
     "output_type": "display_data"
    }
   ],
   "source": [
    "plt.figure()\n",
    "plt.plot(x, a)\n",
    "plt.show()  # this line of code is optional, but not including it will print out an extra line in the output"
   ]
  },
  {
   "cell_type": "markdown",
   "metadata": {},
   "source": [
    "Once you started a figure, you can keep plotting to the same figure."
   ]
  },
  {
   "cell_type": "code",
   "execution_count": 83,
   "metadata": {},
   "outputs": [
    {
     "data": {
      "image/png": "[encoded data removed]",
      "text/plain": [
       "<Figure size 432x288 with 1 Axes>"
      ]
     },
     "metadata": {
      "needs_background": "light"
     },
     "output_type": "display_data"
    }
   ],
   "source": [
    "plt.figure()\n",
    "plt.plot(x, a, \"green\")\n",
    "plt.plot(x, b)\n",
    "plt.show()"
   ]
  },
  {
   "cell_type": "markdown",
   "metadata": {},
   "source": [
    "To plot different plots, you can create a second figure."
   ]
  },
  {
   "cell_type": "code",
   "execution_count": 84,
   "metadata": {},
   "outputs": [
    {
     "data": {
      "image/png": "[encoded data removed]",
      "text/plain": [
       "<Figure size 432x288 with 1 Axes>"
      ]
     },
     "metadata": {
      "needs_background": "light"
     },
     "output_type": "display_data"
    },
    {
     "data": {
      "image/png": "[encoded data removed]",
      "text/plain": [
       "<Figure size 432x288 with 1 Axes>"
      ]
     },
     "metadata": {
      "needs_background": "light"
     },
     "output_type": "display_data"
    }
   ],
   "source": [
    "plt.figure()\n",
    "plt.plot(x, a)\n",
    "plt.figure()\n",
    "plt.plot(x, b)\n",
    "plt.show()"
   ]
  },
  {
   "cell_type": "markdown",
   "metadata": {},
   "source": [
    "To label the axes, use `plt.xlabel()` and `plt.ylabel()`."
   ]
  },
  {
   "cell_type": "code",
   "execution_count": 85,
   "metadata": {},
   "outputs": [
    {
     "data": {
      "image/png": "[encoded data removed]",
      "text/plain": [
       "<Figure size 432x288 with 1 Axes>"
      ]
     },
     "metadata": {
      "needs_background": "light"
     },
     "output_type": "display_data"
    }
   ],
   "source": [
    "plt.figure()\n",
    "plt.plot(x, a)\n",
    "plt.plot(x, b)\n",
    "\n",
    "plt.xlabel(\"time\")\n",
    "plt.ylabel(\"space\")\n",
    "plt.show()"
   ]
  },
  {
   "cell_type": "markdown",
   "metadata": {},
   "source": [
    "You can also add title and legends using `plt.title()` and `plt.legend()`."
   ]
  },
  {
   "cell_type": "code",
   "execution_count": 86,
   "metadata": {},
   "outputs": [
    {
     "data": {
      "image/png": "[encoded data removed]",
      "text/plain": [
       "<Figure size 432x288 with 1 Axes>"
      ]
     },
     "metadata": {
      "needs_background": "light"
     },
     "output_type": "display_data"
    }
   ],
   "source": [
    "plt.figure()\n",
    "plt.plot(x, a)\n",
    "plt.plot(x, b)\n",
    "plt.xlabel(\"time\")\n",
    "plt.ylabel(\"space\")\n",
    "\n",
    "plt.title(\"Most Important Graph in the World\")\n",
    "\n",
    "plt.legend((\"$\\exp(x)$\", \"$\\sin(x)$\"))\n",
    "plt.show()"
   ]
  },
  {
   "cell_type": "markdown",
   "metadata": {},
   "source": [
    "There are many options you can specify in `plot()`, such as color and linewidth. You can also change the axis using `plt.axis`."
   ]
  },
  {
   "cell_type": "code",
   "execution_count": 87,
   "metadata": {},
   "outputs": [
    {
     "data": {
      "image/png": "[encoded data removed]",
      "text/plain": [
       "<Figure size 432x288 with 1 Axes>"
      ]
     },
     "metadata": {
      "needs_background": "light"
     },
     "output_type": "display_data"
    }
   ],
   "source": [
    "plt.figure()\n",
    "plt.plot(x, a, \":r\", linewidth=20)\n",
    "plt.plot(x, b , \"--k\")\n",
    "plt.xlabel(\"time\")\n",
    "plt.ylabel(\"space\")\n",
    "\n",
    "plt.title(\"Most Important Graph in the World\")\n",
    "\n",
    "plt.legend((\"blue\", \"red\"))\n",
    "\n",
    "plt.axis([0, 4, -2, 3])\n",
    "plt.show()"
   ]
  },
  {
   "cell_type": "markdown",
   "metadata": {},
   "source": [
    "There are many other plotting functions. For example, we will use `plt.imshow()` for showing images and `plt.stem()` for plotting discretized signals."
   ]
  },
  {
   "cell_type": "code",
   "execution_count": 88,
   "metadata": {},
   "outputs": [
    {
     "data": {
      "image/png": "[encoded data removed]",
      "text/plain": [
       "<Figure size 432x288 with 1 Axes>"
      ]
     },
     "metadata": {
      "needs_background": "light"
     },
     "output_type": "display_data"
    }
   ],
   "source": [
    "# image\n",
    "plt.figure()\n",
    "\n",
    "# plotting the outer product of a and b\n",
    "data = np.outer(a, b)\n",
    "\n",
    "plt.imshow(data)\n",
    "plt.show()"
   ]
  },
  {
   "cell_type": "code",
   "execution_count": 89,
   "metadata": {},
   "outputs": [
    {
     "data": {
      "image/png": "[encoded data removed]",
      "text/plain": [
       "<Figure size 432x288 with 1 Axes>"
      ]
     },
     "metadata": {
      "needs_background": "light"
     },
     "output_type": "display_data"
    }
   ],
   "source": [
    "# stem plot\n",
    "plt.figure()\n",
    "# subsample by 5\n",
    "plt.stem(x[::5], a[::5])\n",
    "plt.show()"
   ]
  },
  {
   "cell_type": "markdown",
   "metadata": {},
   "source": [
    "## Logic"
   ]
  },
  {
   "cell_type": "markdown",
   "metadata": {},
   "source": [
    "### For Loop"
   ]
  },
  {
   "cell_type": "markdown",
   "metadata": {},
   "source": [
    "Indentation matters in Python. Everything indented belongs to the loop:"
   ]
  },
  {
   "cell_type": "code",
   "execution_count": 90,
   "metadata": {},
   "outputs": [
    {
     "name": "stdout",
     "output_type": "stream",
     "text": [
      "4\n",
      "6\n",
      "asdf\n",
      "jkl\n"
     ]
    }
   ],
   "source": [
    "for i in [4, 6, \"asdf\", \"jkl\"]:\n",
    "    print(i)"
   ]
  },
  {
   "cell_type": "code",
   "execution_count": 91,
   "metadata": {},
   "outputs": [
    {
     "name": "stdout",
     "output_type": "stream",
     "text": [
      "0.0\n",
      "0.1\n",
      "0.2\n",
      "0.30000000000000004\n",
      "0.4\n",
      "0.5\n",
      "0.6000000000000001\n",
      "0.7000000000000001\n",
      "0.8\n",
      "0.9\n"
     ]
    }
   ],
   "source": [
    "for i in np.arange(0, 1, 0.1):\n",
    "    print(i)\n",
    "\n",
    "# you might notice that a few of these values are imprecise. This is\n",
    "# a normal behavior due to how numbers are represented in binary"
   ]
  },
  {
   "cell_type": "markdown",
   "metadata": {},
   "source": [
    "### If-Else"
   ]
  },
  {
   "cell_type": "markdown",
   "metadata": {},
   "source": [
    "Same goes for If-Else:"
   ]
  },
  {
   "cell_type": "code",
   "execution_count": 92,
   "metadata": {},
   "outputs": [
    {
     "name": "stdout",
     "output_type": "stream",
     "text": [
      "1 != 0\n"
     ]
    }
   ],
   "source": [
    "if 1 != 0:\n",
    "    print(\"1 != 0\")\n",
    "elif 1 == 0: \n",
    "    print(\"1 = 0\")\n",
    "else:\n",
    "    print(\"Huh?\")"
   ]
  },
  {
   "cell_type": "markdown",
   "metadata": {},
   "source": [
    "## Random Library"
   ]
  },
  {
   "cell_type": "markdown",
   "metadata": {},
   "source": [
    "*The NumPy random library should be your resource for all Monte Carlo simulations which require generating instances of random variables.*\n",
    "\n",
    "The documentation for the library can be found here: http://docs.scipy.org/doc/numpy/reference/routines.random.html"
   ]
  },
  {
   "cell_type": "markdown",
   "metadata": {},
   "source": [
    "The function `rand` can be used to generates a uniform random number in the range $[0,1)$."
   ]
  },
  {
   "cell_type": "code",
   "execution_count": 93,
   "metadata": {},
   "outputs": [
    {
     "name": "stdout",
     "output_type": "stream",
     "text": [
      "0.022140687456528307\n",
      "[0.68746467 0.51910107 0.12920768 0.90906024 0.39408677]\n",
      "[[0.58494197 0.05954749 0.20840596]\n",
      " [0.51490042 0.16550828 0.77772283]\n",
      " [0.66328758 0.39584895 0.28280385]]\n"
     ]
    }
   ],
   "source": [
    "from numpy import random\n",
    "\n",
    "# random number\n",
    "print(random.rand())\n",
    "# random vector\n",
    "print(random.rand(5))\n",
    "# random matrix\n",
    "print(random.rand(3, 3))"
   ]
  },
  {
   "cell_type": "markdown",
   "metadata": {},
   "source": [
    "Let's see how we can use this to generate a fair coin toss (i.e. a discrete $\\operatorname{Bernoulli}(1/2)$ random variable)."
   ]
  },
  {
   "cell_type": "code",
   "execution_count": 94,
   "metadata": {},
   "outputs": [
    {
     "name": "stdout",
     "output_type": "stream",
     "text": [
      "1\n"
     ]
    }
   ],
   "source": [
    "# Bernoulli(1/2) random variable\n",
    "x = round(random.rand())\n",
    "print(x)"
   ]
  },
  {
   "cell_type": "markdown",
   "metadata": {},
   "source": [
    "Now let's generate several fair coin tosses and plot a histogram of the results."
   ]
  },
  {
   "cell_type": "code",
   "execution_count": 95,
   "metadata": {},
   "outputs": [
    {
     "data": {
      "image/png": "[encoded data removed]",
      "text/plain": [
       "<Figure size 432x288 with 1 Axes>"
      ]
     },
     "metadata": {
      "needs_background": "light"
     },
     "output_type": "display_data"
    },
    {
     "data": {
      "image/png": "[encoded data removed]",
      "text/plain": [
       "<Figure size 432x288 with 1 Axes>"
      ]
     },
     "metadata": {
      "needs_background": "light"
     },
     "output_type": "display_data"
    }
   ],
   "source": [
    "k = 100\n",
    "x1 = [round(random.rand()) for _ in range(k)]\n",
    "plt.figure()\n",
    "plt.hist(x1)\n",
    "\n",
    "# we could also use NumPy's round function to elementwise round the vector.\n",
    "x2 = np.round(random.rand(k))\n",
    "plt.figure()\n",
    "plt.hist(x2)\n",
    "plt.show()"
   ]
  },
  {
   "cell_type": "markdown",
   "metadata": {},
   "source": [
    "We can do something similar for several other distributions, and allow the histogram to give us a sense of what the distribution looks like. As we increase the number of samples we take from the distribution $k$, the more and more our histogram looks like the actual distribution."
   ]
  },
  {
   "cell_type": "code",
   "execution_count": 96,
   "metadata": {},
   "outputs": [
    {
     "data": {
      "image/png": "[encoded data removed]",
      "text/plain": [
       "<Figure size 432x216 with 1 Axes>"
      ]
     },
     "metadata": {
      "needs_background": "light"
     },
     "output_type": "display_data"
    },
    {
     "data": {
      "image/png": "[encoded data removed]",
      "text/plain": [
       "<Figure size 432x216 with 1 Axes>"
      ]
     },
     "metadata": {
      "needs_background": "light"
     },
     "output_type": "display_data"
    },
    {
     "data": {
      "image/png": "[encoded data removed]",
      "text/plain": [
       "<Figure size 432x216 with 1 Axes>"
      ]
     },
     "metadata": {
      "needs_background": "light"
     },
     "output_type": "display_data"
    },
    {
     "data": {
      "image/png": "[encoded data removed]",
      "text/plain": [
       "<Figure size 432x216 with 1 Axes>"
      ]
     },
     "metadata": {
      "needs_background": "light"
     },
     "output_type": "display_data"
    }
   ],
   "source": [
    "k = 1000\n",
    "\n",
    "# k discrete uniform random variables between 0 and 9\n",
    "discrete_uniform = random.randint(0, 10, size=k)\n",
    "plt.figure(figsize=(6, 3))\n",
    "plt.hist(discrete_uniform)\n",
    "plt.title(\"Discrete Uniform\")\n",
    "\n",
    "continuous_uniform = random.rand(k)\n",
    "plt.figure(figsize=(6, 3))\n",
    "plt.hist(continuous_uniform)\n",
    "plt.title(\"Continuous Uniform\")\n",
    "\n",
    "# randn generates elements from the standard normal\n",
    "std_normal = random.randn(k)\n",
    "plt.figure(figsize=(6, 3))\n",
    "plt.hist(std_normal)\n",
    "plt.title(\"Standard Normal\")\n",
    "\n",
    "# To generate a normal distribution with mean mu and standard deviation sigma,\n",
    "# we must mean shift and scale the variable\n",
    "mu = 100\n",
    "sigma = 40\n",
    "normal_mu_sigma = mu + random.randn(k) * sigma\n",
    "plt.figure(figsize=(6, 3))\n",
    "plt.hist(normal_mu_sigma)\n",
    "plt.title(\"N({}, {})\".format(mu, sigma))\n",
    "plt.show()"
   ]
  },
  {
   "cell_type": "markdown",
   "metadata": {},
   "source": [
    "We could do this all day with all sorts of distributions. I think you get the point."
   ]
  },
  {
   "cell_type": "markdown",
   "metadata": {},
   "source": [
    "### Specifying a Discrete Probability Distribution for Monte Carlo Sampling"
   ]
  },
  {
   "cell_type": "markdown",
   "metadata": {},
   "source": [
    "The following function takes $n$ sample from a discrete probability distribution specified by the two arrays `distribution` and `values`.\n",
    "\n",
    "As an example, let us suppose a random variable $X$ follows the following distribution:\n",
    "\n",
    "$$\n",
    "X = \\begin{cases} 1 \\ \\text{w/ probability 0.1} \\\\ 2 \\ \\text{w/ probability 0.4} \\\\ 3 \\ \\text{w/ probability 0.2} \\\\ 4 \\ \\text{w/ probability 0.2} \\\\ 5 \\ \\text{w/ probability 0.05} \\\\ 6 \\ \\text{w/ probability 0.05} \\end{cases}\n",
    "$$\n",
    "\n",
    "Then we would have:\n",
    "`distribution = [0.1, 0.4, 0.2, 0.2, 0.05, 0.05]` and\n",
    "`values = [1, 2, 3, 4, 5, 6]`."
   ]
  },
  {
   "cell_type": "code",
   "execution_count": 101,
   "metadata": {},
   "outputs": [],
   "source": [
    "def n_sample(distribution, values, n):\n",
    "    if sum(distribution) != 1:\n",
    "        distribution = [distribution[i] / sum(distribution) \\\n",
    "            for i in range(len(distribution))]\n",
    "    rand = [random.rand() for i in range(n)]\n",
    "    rand.sort()\n",
    "    samples = []\n",
    "    sample_pos, dist_pos, cdf = 0, 0, distribution[0]\n",
    "    while sample_pos < n:\n",
    "        if rand[sample_pos] < cdf:\n",
    "            sample_pos += 1\n",
    "            samples.append(values[dist_pos])\n",
    "        else:\n",
    "            dist_pos += 1\n",
    "            cdf += distribution[dist_pos]\n",
    "    return samples"
   ]
  },
  {
   "cell_type": "code",
   "execution_count": 102,
   "metadata": {},
   "outputs": [
    {
     "data": {
      "image/png": "[encoded data removed]",
      "text/plain": [
       "<Figure size 432x288 with 1 Axes>"
      ]
     },
     "metadata": {
      "needs_background": "light"
     },
     "output_type": "display_data"
    },
    {
     "name": "stdout",
     "output_type": "stream",
     "text": [
      "Wow, if we normalized the y-axis that would be a PMF. Incredible!\n",
      "I should try that.\n"
     ]
    }
   ],
   "source": [
    "# collect k samples from X and plot the histogram\n",
    "samples_from_x = n_sample(\n",
    "    [0.1, 0.4, 0.2, 0.2, 0.05, 0.05], [1, 2, 3, 4, 5, 6], k)\n",
    "plt.hist(samples_from_x)\n",
    "plt.ylim((0, 1000))\n",
    "plt.show()\n",
    "print(\"Wow, if we normalized the y-axis that would be a PMF. Incredible!\")\n",
    "print(\"I should try that.\")"
   ]
  },
  {
   "cell_type": "code",
   "execution_count": 103,
   "metadata": {},
   "outputs": [
    {
     "data": {
      "image/png": "[encoded data removed]",
      "text/plain": [
       "<Figure size 432x288 with 1 Axes>"
      ]
     },
     "metadata": {
      "needs_background": "light"
     },
     "output_type": "display_data"
    }
   ],
   "source": [
    "# Normalize the samples from X to plot the probability mass function below:\n",
    "plt.hist(samples_from_x, bins=6, density=True)\n",
    "plt.ylim((0, 1))\n",
    "plt.show()"
   ]
  },
  {
   "cell_type": "markdown",
   "metadata": {},
   "source": [
    "## $\\mathcal{Q}$ uestion 1: Sampling and Plotting a Binomial Random Variable\n",
    "\n",
    "A binomial random variable $X \\sim \\operatorname{Binomial}(n,p)$ can be thought of as the number of heads in $n$ coin flips where each flip has probability $p$ of coming up heads.  We can equivalently think of it as the sum of $n$ Bernoulli random variables: $X = \\sum_{i=1}^{n}X_i$ where $X_i \\sim \\text{Bernoulli}(p)$.  \n",
    "\n",
    "In this question, you will put your new plotting skills to work and sample the values of a binomial random variable.   "
   ]
  },
  {
   "cell_type": "code",
   "execution_count": 111,
   "metadata": {
    "scrolled": false
   },
   "outputs": [
    {
     "data": {
      "image/png": "[encoded data removed]",
      "text/plain": [
       "<Figure size 432x288 with 20 Axes>"
      ]
     },
     "metadata": {
      "needs_background": "light"
     },
     "output_type": "display_data"
    }
   ],
   "source": [
    "def plot_binomial(\n",
    "        n, trials=[10, 50, 100, 1000, 10000], p_values=[0.1, 0.2, 0.5, 0.8]):\n",
    "    \"\"\"\n",
    "    On different figures, plot a histogram of the results of the given\n",
    "    number of trials of the binomial variable with parameters n and p for all\n",
    "    values in the given list.\n",
    "    \n",
    "    You should generate 20 different plots in total.\n",
    "    \"\"\"\n",
    "    # Start of your code\n",
    "    N, M = len(trials), len(p_values)\n",
    "    fig, axes = plt.subplots(N, M)\n",
    "    for j in range(M):\n",
    "        p = p_values[j]\n",
    "        dist = [(1-p)**n]\n",
    "        for k in range(1, n+1):\n",
    "            dist += [dist[-1] * (n-k)*p/(k+1)/(1-p)]\n",
    "        for i in range(N):\n",
    "            samples = n_sample(dist, list(range(n+1)), trials[i])\n",
    "            axes[i][j].hist(samples, density=True)\n",
    "    # End of your code\n",
    "\n",
    "# Feel free to play around with other values of n.\n",
    "plot_binomial(100)"
   ]
  },
  {
   "cell_type": "markdown",
   "metadata": {},
   "source": [
    "Now that you have plotted many values of a few different binomial random variables, do the results coincide with what you expect them to?"
   ]
  },
  {
   "cell_type": "markdown",
   "metadata": {},
   "source": [
    "## $\\mathcal{Q}$ uestion 2: Monte Carlo Method for Estimating Pi\n",
    "\n",
    "After going through this tutorial, you might wonder: why should we bother with NumPy at all?\n",
    "\n",
    "While many of you may not have used NumPy previously, or not see the purpose in learning this library, we strongly urge you to force yourself to use NumPy as much as possible while doing virtual labs. \n",
    "\n",
    "NumPy (and using matrix operations rather than loops) is your friend when it comes to efficiently dealing with lots of data or doing elaborate simulations. If you find yourself using many loops or list comprehensions to process data, think about using NumPy. Furthermore, NumPy is widely used in industry and academic research, and so it will benefit you greatly to become comfortable with it this semester! \n",
    "\n",
    "Let's work through an example to see the usefulness of NumPy."
   ]
  },
  {
   "cell_type": "markdown",
   "metadata": {},
   "source": [
    "### Estimate the value of $\\pi$ using a Monte Carlo method.\n",
    "\n",
    "Monte Carlo methods are algorithms that use probability and randomness to solve problems that would be difficult otherwise. Here, we will use a Monte Carlo simulation to estimate the value of $\\pi$. \n",
    "\n",
    "Suppose we have a one meter by one meter square dartboard with a quarter circle inscribed in it, as shown below:\n",
    "\n",
    "![Dartboard Image](approx_pi.png \"Approximating Pi\")\n",
    "\n",
    "If we throw darts at the dartboard such that they are equally likely to land anywhere in the square, then as we throw more and more darts, the fraction of them that will land in the quarter circle will approach\n",
    "\n",
    "$$\\frac{\\text{Area of quarter circle}}{\\text{Area of square}} = \\frac{\\pi}{4}$$\n",
    "\n",
    "Therefore, after simulating this process, we can take the fraction of darts that landed within the circle, and multiply this value by 4 to use as our estimate for $\\pi$."
   ]
  },
  {
   "cell_type": "markdown",
   "metadata": {},
   "source": [
    "**A version of the simulation that does not use NumPy at all is given. Your job is to re-implement the simulation using NumPy to speed it up. For reference, the staff solution is > 10x better.**"
   ]
  },
  {
   "cell_type": "code",
   "execution_count": 141,
   "metadata": {},
   "outputs": [],
   "source": [
    "import time\n",
    "import numpy as np\n",
    "import random\n",
    "\n",
    "def monte_carlo_pi(num_points):\n",
    "    # num_points is the number of random points to choose\n",
    "    count = 0\n",
    "    for _ in range(num_points):\n",
    "        randx, randy = random.random(), random.random()\n",
    "        if (randx ** 2 + randy ** 2 < 1):\n",
    "            count += 1\n",
    "    estimate = (count * 4.0 / num_points)\n",
    "    return estimate\n",
    "    \n",
    "    \n",
    "def monte_carlo_pi_numpy(num_points):\n",
    "    # num_points is the number of random points to choose\n",
    "    \n",
    "    # Start of your code\n",
    "    points = np.random.rand(num_points, 2)\n",
    "    distances = points[:, 0]**2 + points[:, 1]**2\n",
    "    count = np.count_nonzero(distances < 1)\n",
    "    print(count)\n",
    "    estimate = (count * 4.0 / num_points)\n",
    "    return estimate\n",
    "    # End of your code"
   ]
  },
  {
   "cell_type": "markdown",
   "metadata": {},
   "source": [
    "To see the effectiveness of using NumPy, let's run both implementations of the simulation, with and without NumPy, and compare their speeds."
   ]
  },
  {
   "cell_type": "code",
   "execution_count": 142,
   "metadata": {},
   "outputs": [],
   "source": [
    "num_points = 10000000 # number of random points to choose"
   ]
  },
  {
   "cell_type": "code",
   "execution_count": 143,
   "metadata": {},
   "outputs": [
    {
     "name": "stdout",
     "output_type": "stream",
     "text": [
      "Estimate of Pi: 3.1415384\n",
      "Actual value of Pi: 3.141592653589793\n"
     ]
    }
   ],
   "source": [
    "start = time.perf_counter()\n",
    "print(\"Estimate of Pi:\", monte_carlo_pi(num_points))\n",
    "print (\"Actual value of Pi:\", np.pi)\n",
    "end = time.perf_counter()\n",
    "total1 = end - start"
   ]
  },
  {
   "cell_type": "code",
   "execution_count": 144,
   "metadata": {},
   "outputs": [
    {
     "name": "stdout",
     "output_type": "stream",
     "text": [
      "7853353\n",
      "Estimate of Pi: 3.1413412\n",
      "Actual value of Pi: 3.141592653589793\n"
     ]
    }
   ],
   "source": [
    "start = time.perf_counter()\n",
    "print(\"Estimate of Pi:\", monte_carlo_pi_numpy(num_points))\n",
    "print (\"Actual value of Pi:\", np.pi)\n",
    "end = time.perf_counter()\n",
    "total2 = end - start"
   ]
  },
  {
   "cell_type": "code",
   "execution_count": 145,
   "metadata": {},
   "outputs": [
    {
     "name": "stdout",
     "output_type": "stream",
     "text": [
      "w/o NumPy:\t 1.881536 s\n",
      "w/ NumPy:\t 0.136640 s\n",
      "Total Speedup: 13.770070455469682x\n"
     ]
    }
   ],
   "source": [
    "print(\"w/o NumPy:\\t %f s\\nw/ NumPy:\\t %f s\" %(total1, total2))\n",
    "print(\"Total Speedup: \" + str(total1 / total2) + \"x\")"
   ]
  },
  {
   "cell_type": "code",
   "execution_count": null,
   "metadata": {},
   "outputs": [],
   "source": []
  }
 ],
 "metadata": {
  "anaconda-cloud": {},
  "kernelspec": {
   "display_name": "Python 3",
   "language": "python",
   "name": "python3"
  },
  "language_info": {
   "codemirror_mode": {
    "name": "ipython",
    "version": 3
   },
   "file_extension": ".py",
   "mimetype": "text/x-python",
   "name": "python",
   "nbconvert_exporter": "python",
   "pygments_lexer": "ipython3",
   "version": "3.9.12"
  }
 },
 "nbformat": 4,
 "nbformat_minor": 4
}
